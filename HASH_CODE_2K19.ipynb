{
 "cells": [
  {
   "cell_type": "markdown",
   "metadata": {},
   "source": [
    "# HASH CODE 2019"
   ]
  },
  {
   "cell_type": "code",
   "execution_count": 62,
   "metadata": {
    "collapsed": false
   },
   "outputs": [],
   "source": [
    "#NOTE :- \n",
    "#THIS CODE GENERATES A RANDOM SOLUTION \n",
    "#THIS CODE DOES NOT GENERATES OPTIMAL SOLUTION "
   ]
  },
  {
   "cell_type": "code",
   "execution_count": 10,
   "metadata": {
    "collapsed": false
   },
   "outputs": [],
   "source": [
    "h =open('e_shiny_selfies.txt','r')\n",
    "g= open('d_pet_pictures.txt','r')\n",
    "f= open('c_memorable_moments.txt','r')\n",
    "k= open('b_lovely_landscapes.txt','r')\n",
    "u= open('a_example.txt','r')\n",
    "a_lines= u.read()\n",
    "b_lines= k.read()\n",
    "c_lines= f.read()\n",
    "d_lines= g.read()\n",
    "e_lines= h.read()"
   ]
  },
  {
   "cell_type": "code",
   "execution_count": 11,
   "metadata": {
    "collapsed": false
   },
   "outputs": [],
   "source": [
    "a = a_lines.split(\"\\n\")\n",
    "b = b_lines.split(\"\\n\")\n",
    "c = c_lines.split(\"\\n\")\n",
    "d = d_lines.split(\"\\n\")\n",
    "e = e_lines.split(\"\\n\")"
   ]
  },
  {
   "cell_type": "code",
   "execution_count": 12,
   "metadata": {
    "collapsed": false
   },
   "outputs": [],
   "source": [
    "v_list0= list()\n",
    "h_list0= list()\n",
    "for i0 in range (1,len(a)):\n",
    "    if a[i0].startswith('V'):\n",
    "        v_list0.append(i0-1)\n",
    "    elif a[i0].startswith('H'):\n",
    "        h_list0.append(i0-1)"
   ]
  },
  {
   "cell_type": "code",
   "execution_count": 13,
   "metadata": {
    "collapsed": false
   },
   "outputs": [],
   "source": [
    "v_list1= list()\n",
    "h_list1= list()\n",
    "for i in range (1,len(b)):\n",
    "    if b[i].startswith('V'):\n",
    "        v_list1.append(i-1)\n",
    "    elif b[i].startswith('H'):\n",
    "        h_list1.append(i-1)\n",
    "        "
   ]
  },
  {
   "cell_type": "code",
   "execution_count": 14,
   "metadata": {
    "collapsed": false
   },
   "outputs": [],
   "source": [
    "v_list2= list()\n",
    "h_list2= list()\n",
    "for j in range (1,len(c)):\n",
    "    if c[j].startswith('V'):\n",
    "        v_list2.append(j-1)\n",
    "    elif c[j].startswith('H'):\n",
    "        h_list2.append(j-1)"
   ]
  },
  {
   "cell_type": "code",
   "execution_count": 15,
   "metadata": {
    "collapsed": true
   },
   "outputs": [],
   "source": [
    "v_list3= list()\n",
    "h_list3=list()\n",
    "for k1 in range (1,len(d)):\n",
    "    if d[k1].startswith('V'):\n",
    "        v_list3.append(k1-1)\n",
    "    elif d[k1].startswith('H'):\n",
    "        h_list3.append(k1-1)"
   ]
  },
  {
   "cell_type": "code",
   "execution_count": 16,
   "metadata": {
    "collapsed": true
   },
   "outputs": [],
   "source": [
    "v_list4= list()\n",
    "h_list4=list()\n",
    "for l in range (1,len(e)):\n",
    "    if e[l].startswith('V'):\n",
    "        v_list4.append(l-1)\n",
    "    elif e[l].startswith('H'):\n",
    "        h_list4.append(l-1)"
   ]
  },
  {
   "cell_type": "code",
   "execution_count": 18,
   "metadata": {
    "collapsed": false
   },
   "outputs": [],
   "source": [
    "sol0=list()\n",
    "for m0 in range (0,len(v_list0),2):\n",
    "    a0,b0=(v_list0[m0],v_list0[m0+1])\n",
    "    sol0.append((a0,b0))"
   ]
  },
  {
   "cell_type": "code",
   "execution_count": 19,
   "metadata": {
    "collapsed": false
   },
   "outputs": [],
   "source": [
    "sol1=list()\n",
    "for m in range (0,len(v_list1),2):\n",
    "    a1,b1=(v_list1[m],v_list1[m+1])\n",
    "    sol1.append((a1,b1))"
   ]
  },
  {
   "cell_type": "code",
   "execution_count": 20,
   "metadata": {
    "collapsed": true
   },
   "outputs": [],
   "source": [
    "sol2=list()\n",
    "for n in range (0,len(v_list2),2):\n",
    "    a2,b2=(v_list2[n],v_list2[n+1])\n",
    "    sol2.append((a2,b2))\n",
    "    "
   ]
  },
  {
   "cell_type": "code",
   "execution_count": 21,
   "metadata": {
    "collapsed": true
   },
   "outputs": [],
   "source": [
    "sol3=list()\n",
    "for o in range (0,len(v_list3),2):\n",
    "    a3,b3=(v_list3[o],v_list3[o+1])\n",
    "    sol3.append((a3,b3))"
   ]
  },
  {
   "cell_type": "code",
   "execution_count": 22,
   "metadata": {
    "collapsed": true
   },
   "outputs": [],
   "source": [
    "sol4=list()\n",
    "for p in range (0,len(v_list4),2):\n",
    "    a4,b4=(v_list4[p],v_list4[p+1])\n",
    "    sol4.append((a4,b4))"
   ]
  },
  {
   "cell_type": "code",
   "execution_count": 23,
   "metadata": {
    "collapsed": true
   },
   "outputs": [],
   "source": [
    "for m00 in range (0,len(h_list0)):\n",
    "    c0=  h_list1[m00]\n",
    "    sol0.append(c0)"
   ]
  },
  {
   "cell_type": "code",
   "execution_count": 24,
   "metadata": {
    "collapsed": false
   },
   "outputs": [],
   "source": [
    "for m1 in range (0,len(h_list1)):\n",
    "    c1=  h_list1[m1]\n",
    "    sol1.append(c1)"
   ]
  },
  {
   "cell_type": "code",
   "execution_count": 25,
   "metadata": {
    "collapsed": true
   },
   "outputs": [],
   "source": [
    "for n1 in range (0,len(h_list2)):\n",
    "    c2 =  h_list2[n1]\n",
    "    sol2.append(c2)"
   ]
  },
  {
   "cell_type": "code",
   "execution_count": 26,
   "metadata": {
    "collapsed": true
   },
   "outputs": [],
   "source": [
    "for o1 in range (0,len(h_list3)):\n",
    "    c3 =  h_list3[o1]\n",
    "    sol3.append(c3)"
   ]
  },
  {
   "cell_type": "code",
   "execution_count": 27,
   "metadata": {
    "collapsed": true
   },
   "outputs": [],
   "source": [
    "for p1 in range (0,len(h_list4)):\n",
    "    c4 =  h_list4[p1]\n",
    "    sol4.append(c4)"
   ]
  },
  {
   "cell_type": "code",
   "execution_count": 28,
   "metadata": {
    "collapsed": false
   },
   "outputs": [],
   "source": [
    "for m20 in sol0:\n",
    "    fh = open('sol0.txt','a')\n",
    "    fh.write(str(m20))\n",
    "    fh.write('\\n')\n",
    "    fh.close()"
   ]
  },
  {
   "cell_type": "code",
   "execution_count": 25,
   "metadata": {
    "collapsed": false,
    "scrolled": false
   },
   "outputs": [],
   "source": [
    "for m2 in sol1:\n",
    "    fh = open('sol1.txt','a')\n",
    "    fh.write(str(m2))\n",
    "    fh.write('\\n')\n",
    "    fh.close()"
   ]
  },
  {
   "cell_type": "code",
   "execution_count": 356,
   "metadata": {
    "collapsed": true
   },
   "outputs": [],
   "source": [
    "for n2 in sol2:\n",
    "    fh = open('sol2.txt','a')\n",
    "    fh.write(str(n2))\n",
    "    fh.write('\\n')\n",
    "    fh.close()"
   ]
  },
  {
   "cell_type": "code",
   "execution_count": 26,
   "metadata": {
    "collapsed": false
   },
   "outputs": [],
   "source": [
    "for o2 in sol3:\n",
    "    fh = open('sol3.txt','a')\n",
    "    fh.write(str(o2))\n",
    "    fh.write('\\n')\n",
    "    fh.close()"
   ]
  },
  {
   "cell_type": "code",
   "execution_count": 358,
   "metadata": {
    "collapsed": true
   },
   "outputs": [],
   "source": [
    "for p2 in sol4:\n",
    "    fh = open('sol4.txt','a')\n",
    "    fh.write(str(p2))\n",
    "    fh.write('\\n')\n",
    "    fh.close()"
   ]
  },
  {
   "cell_type": "code",
   "execution_count": 55,
   "metadata": {
    "collapsed": false
   },
   "outputs": [],
   "source": [
    "import random\n",
    "lines = open('sol0.txt').readlines()\n",
    "random.shuffle(lines)\n",
    "open('dup_sol0.txt', 'w').writelines(str(len(lines)))\n",
    "open('dup_sol0.txt', 'a').writelines('\\n')\n",
    "open('dup_sol0.txt', 'a').writelines(lines)\n",
    "#Use Notepad++ to remove , ( ) [ ]\n",
    "#dup_sol0.txt is the output file"
   ]
  },
  {
   "cell_type": "code",
   "execution_count": 56,
   "metadata": {
    "collapsed": false
   },
   "outputs": [],
   "source": [
    "import random\n",
    "lines = open('sol1.txt').readlines()\n",
    "random.shuffle(lines)\n",
    "open('dup_sol1.txt', 'w').writelines(str(len(lines)))\n",
    "open('dup_sol1.txt', 'a').writelines('\\n')\n",
    "open('dup_sol1.txt', 'a').writelines(lines)\n",
    "#Use Notepad++ to remove , ( ) [ ]\n",
    "#dup_sol1.txt is the output file"
   ]
  },
  {
   "cell_type": "code",
   "execution_count": 57,
   "metadata": {
    "collapsed": true
   },
   "outputs": [],
   "source": [
    "import random\n",
    "lines = open('sol2.txt').readlines()\n",
    "random.shuffle(lines)\n",
    "open('dup_sol2.txt', 'w').writelines(str(len(lines)))\n",
    "open('dup_sol2.txt', 'a').writelines('\\n')\n",
    "open('dup_sol2.txt', 'a').writelines(lines)\n",
    "#Use Notepad++ to remove , ( ) [ ]\n",
    "#dup_sol2.txt is the output file"
   ]
  },
  {
   "cell_type": "code",
   "execution_count": 58,
   "metadata": {
    "collapsed": true
   },
   "outputs": [],
   "source": [
    "import random\n",
    "lines = open('sol3.txt').readlines()\n",
    "random.shuffle(lines)\n",
    "open('dup_sol3.txt', 'w').writelines(str(len(lines)))\n",
    "open('dup_sol3.txt', 'a').writelines('\\n')\n",
    "open('dup_sol3.txt', 'a').writelines(lines)\n",
    "#Use Notepad++ to remove , ( ) [ ]\n",
    "#dup_sol3.txt is the output file"
   ]
  },
  {
   "cell_type": "code",
   "execution_count": 59,
   "metadata": {
    "collapsed": true
   },
   "outputs": [],
   "source": [
    "import random\n",
    "lines = open('sol4.txt').readlines()\n",
    "random.shuffle(lines)\n",
    "open('dup_sol4.txt', 'w').writelines(str(len(lines)))\n",
    "open('dup_sol4.txt', 'a').writelines('\\n')\n",
    "open('dup_sol4.txt', 'a').writelines(lines)\n",
    "#Use Notepad++ to remove , ( ) [ ]\n",
    "#dup_sol4.txt is the output file"
   ]
  }
 ],
 "metadata": {
  "kernelspec": {
   "display_name": "Python 2",
   "language": "python",
   "name": "python2"
  },
  "language_info": {
   "codemirror_mode": {
    "name": "ipython",
    "version": 2
   },
   "file_extension": ".py",
   "mimetype": "text/x-python",
   "name": "python",
   "nbconvert_exporter": "python",
   "pygments_lexer": "ipython2",
   "version": "2.7.13"
  }
 },
 "nbformat": 4,
 "nbformat_minor": 0
}
